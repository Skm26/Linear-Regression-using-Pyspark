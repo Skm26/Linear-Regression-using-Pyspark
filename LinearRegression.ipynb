{
 "cells": [
  {
   "cell_type": "code",
   "execution_count": 0,
   "metadata": {
    "application/vnd.databricks.v1+cell": {
     "cellMetadata": {
      "byteLimit": 2048000,
      "rowLimit": 10000
     },
     "inputWidgets": {},
     "nuid": "1eea4cc5-9d84-45dd-88a1-2b44ad1a88ab",
     "showTitle": false,
     "title": ""
    }
   },
   "outputs": [],
   "source": [
    "# File location and type\n",
    "file_location = \"/FileStore/tables/tips.csv\"\n",
    "file_type = \"csv\"\n",
    "df=spark.read.csv(file_location,header=True,inferSchema=True)"
   ]
  },
  {
   "cell_type": "code",
   "execution_count": 0,
   "metadata": {
    "application/vnd.databricks.v1+cell": {
     "cellMetadata": {
      "byteLimit": 2048000,
      "rowLimit": 10000
     },
     "inputWidgets": {},
     "nuid": "a6a55dc7-d20c-4868-aef5-6ac5c5dbbb7c",
     "showTitle": false,
     "title": ""
    }
   },
   "outputs": [
    {
     "output_type": "stream",
     "name": "stdout",
     "output_type": "stream",
     "text": [
      "Out[4]: [Row(total_bill=16.99, tip=1.01, sex='Female', smoker='No', day='Sun', time='Dinner', size=2),\n Row(total_bill=10.34, tip=1.66, sex='Male', smoker='No', day='Sun', time='Dinner', size=3),\n Row(total_bill=21.01, tip=3.5, sex='Male', smoker='No', day='Sun', time='Dinner', size=3),\n Row(total_bill=23.68, tip=3.31, sex='Male', smoker='No', day='Sun', time='Dinner', size=2),\n Row(total_bill=24.59, tip=3.61, sex='Female', smoker='No', day='Sun', time='Dinner', size=4)]"
     ]
    }
   ],
   "source": [
    "df.head(5)"
   ]
  },
  {
   "cell_type": "code",
   "execution_count": 0,
   "metadata": {
    "application/vnd.databricks.v1+cell": {
     "cellMetadata": {
      "byteLimit": 2048000,
      "rowLimit": 10000
     },
     "inputWidgets": {},
     "nuid": "11dd52df-0019-4432-8939-e2f67a1fcd2e",
     "showTitle": false,
     "title": ""
    }
   },
   "outputs": [
    {
     "output_type": "stream",
     "name": "stdout",
     "output_type": "stream",
     "text": [
      "Out[27]: DataFrame[summary: string, total_bill: string, tip: string, sex: string, smoker: string, day: string, time: string, size: string]"
     ]
    }
   ],
   "source": [
    "df.describe()"
   ]
  },
  {
   "cell_type": "code",
   "execution_count": 0,
   "metadata": {
    "application/vnd.databricks.v1+cell": {
     "cellMetadata": {
      "byteLimit": 2048000,
      "rowLimit": 10000
     },
     "inputWidgets": {},
     "nuid": "cffffaf2-d998-4a56-8b83-c936a4e8daa3",
     "showTitle": false,
     "title": ""
    }
   },
   "outputs": [
    {
     "output_type": "stream",
     "name": "stdout",
     "output_type": "stream",
     "text": [
      "root\n |-- total_bill: double (nullable = true)\n |-- tip: double (nullable = true)\n |-- sex: string (nullable = true)\n |-- smoker: string (nullable = true)\n |-- day: string (nullable = true)\n |-- time: string (nullable = true)\n |-- size: integer (nullable = true)\n\n"
     ]
    }
   ],
   "source": [
    "df.printSchema()"
   ]
  },
  {
   "cell_type": "code",
   "execution_count": 0,
   "metadata": {
    "application/vnd.databricks.v1+cell": {
     "cellMetadata": {
      "byteLimit": 2048000,
      "rowLimit": 10000
     },
     "inputWidgets": {},
     "nuid": "02b794b4-0046-42a8-a0b7-e45fc99e33dd",
     "showTitle": false,
     "title": ""
    }
   },
   "outputs": [
    {
     "output_type": "stream",
     "name": "stdout",
     "output_type": "stream",
     "text": [
      "Out[8]: ['total_bill', 'tip', 'sex', 'smoker', 'day', 'time', 'size']"
     ]
    }
   ],
   "source": [
    "df.columns"
   ]
  },
  {
   "cell_type": "code",
   "execution_count": 0,
   "metadata": {
    "application/vnd.databricks.v1+cell": {
     "cellMetadata": {
      "byteLimit": 2048000,
      "rowLimit": 10000
     },
     "inputWidgets": {},
     "nuid": "586beb6b-1a70-43a5-bc5d-f4b98c1c7c37",
     "showTitle": false,
     "title": ""
    }
   },
   "outputs": [],
   "source": [
    "from pyspark.ml.feature import StringIndexer"
   ]
  },
  {
   "cell_type": "code",
   "execution_count": 0,
   "metadata": {
    "application/vnd.databricks.v1+cell": {
     "cellMetadata": {
      "byteLimit": 2048000,
      "rowLimit": 10000
     },
     "inputWidgets": {},
     "nuid": "5ede4c01-baaf-4140-b8b8-58886e334b21",
     "showTitle": false,
     "title": ""
    }
   },
   "outputs": [
    {
     "output_type": "stream",
     "name": "stdout",
     "output_type": "stream",
     "text": [
      "+----------+----+---+------+---+----+----+\n|total_bill| tip|Sex|Smoker|Day|Time|size|\n+----------+----+---+------+---+----+----+\n|     16.99|1.01|1.0|   0.0|1.0| 0.0|   2|\n|     10.34|1.66|0.0|   0.0|1.0| 0.0|   3|\n|     21.01| 3.5|0.0|   0.0|1.0| 0.0|   3|\n|     23.68|3.31|0.0|   0.0|1.0| 0.0|   2|\n|     24.59|3.61|1.0|   0.0|1.0| 0.0|   4|\n|     25.29|4.71|0.0|   0.0|1.0| 0.0|   4|\n|      8.77| 2.0|0.0|   0.0|1.0| 0.0|   2|\n|     26.88|3.12|0.0|   0.0|1.0| 0.0|   4|\n|     15.04|1.96|0.0|   0.0|1.0| 0.0|   2|\n|     14.78|3.23|0.0|   0.0|1.0| 0.0|   2|\n|     10.27|1.71|0.0|   0.0|1.0| 0.0|   2|\n|     35.26| 5.0|1.0|   0.0|1.0| 0.0|   4|\n|     15.42|1.57|0.0|   0.0|1.0| 0.0|   2|\n|     18.43| 3.0|0.0|   0.0|1.0| 0.0|   4|\n|     14.83|3.02|1.0|   0.0|1.0| 0.0|   2|\n|     21.58|3.92|0.0|   0.0|1.0| 0.0|   2|\n|     10.33|1.67|1.0|   0.0|1.0| 0.0|   3|\n|     16.29|3.71|0.0|   0.0|1.0| 0.0|   3|\n|     16.97| 3.5|1.0|   0.0|1.0| 0.0|   3|\n|     20.65|3.35|0.0|   0.0|0.0| 0.0|   3|\n+----------+----+---+------+---+----+----+\nonly showing top 20 rows\n\n"
     ]
    }
   ],
   "source": [
    "indexer=StringIndexer(inputCols=[ 'sex', 'smoker', 'day', 'time'],outputCols=[\"Sex\",\"Smoker\",\"Day\",\"Time\"])\n",
    "dfnew=indexer.fit(df).transform(df)\n",
    "dfnew.show()"
   ]
  },
  {
   "cell_type": "code",
   "execution_count": 0,
   "metadata": {
    "application/vnd.databricks.v1+cell": {
     "cellMetadata": {
      "byteLimit": 2048000,
      "rowLimit": 10000
     },
     "inputWidgets": {},
     "nuid": "3be78079-23c7-4208-a23f-bf9c3d15e606",
     "showTitle": false,
     "title": ""
    }
   },
   "outputs": [],
   "source": [
    "from pyspark.ml.feature import VectorAssembler\n"
   ]
  },
  {
   "cell_type": "code",
   "execution_count": 0,
   "metadata": {
    "application/vnd.databricks.v1+cell": {
     "cellMetadata": {
      "byteLimit": 2048000,
      "rowLimit": 10000
     },
     "inputWidgets": {},
     "nuid": "8bc8d169-cb41-4563-ac20-3c8c34bdb0ea",
     "showTitle": false,
     "title": ""
    }
   },
   "outputs": [],
   "source": [
    "assembler=VectorAssembler(inputCols=[\"tip\",\"Sex\",\"Smoker\",\"Day\",\"Time\",\"size\"],outputCol=\"Features\")\n",
    "dfnew=assembler.transform(dfnew)"
   ]
  },
  {
   "cell_type": "code",
   "execution_count": 0,
   "metadata": {
    "application/vnd.databricks.v1+cell": {
     "cellMetadata": {
      "byteLimit": 2048000,
      "rowLimit": 10000
     },
     "inputWidgets": {},
     "nuid": "a508320e-ee85-4136-bdb3-79ee422af284",
     "showTitle": false,
     "title": ""
    }
   },
   "outputs": [
    {
     "output_type": "stream",
     "name": "stdout",
     "output_type": "stream",
     "text": [
      "+----------+--------------------+\n|total_bill|            Features|\n+----------+--------------------+\n|     16.99|[1.01,1.0,0.0,1.0...|\n|     10.34|[1.66,0.0,0.0,1.0...|\n|     21.01|[3.5,0.0,0.0,1.0,...|\n|     23.68|[3.31,0.0,0.0,1.0...|\n|     24.59|[3.61,1.0,0.0,1.0...|\n|     25.29|[4.71,0.0,0.0,1.0...|\n|      8.77|[2.0,0.0,0.0,1.0,...|\n|     26.88|[3.12,0.0,0.0,1.0...|\n|     15.04|[1.96,0.0,0.0,1.0...|\n|     14.78|[3.23,0.0,0.0,1.0...|\n|     10.27|[1.71,0.0,0.0,1.0...|\n|     35.26|[5.0,1.0,0.0,1.0,...|\n|     15.42|[1.57,0.0,0.0,1.0...|\n|     18.43|[3.0,0.0,0.0,1.0,...|\n|     14.83|[3.02,1.0,0.0,1.0...|\n|     21.58|[3.92,0.0,0.0,1.0...|\n|     10.33|[1.67,1.0,0.0,1.0...|\n|     16.29|[3.71,0.0,0.0,1.0...|\n|     16.97|[3.5,1.0,0.0,1.0,...|\n|     20.65|(6,[0,5],[3.35,3.0])|\n+----------+--------------------+\nonly showing top 20 rows\n\n"
     ]
    }
   ],
   "source": [
    "dfnew=dfnew.select(\"total_bill\",\"Features\")\n",
    "dfnew.show()"
   ]
  },
  {
   "cell_type": "code",
   "execution_count": 0,
   "metadata": {
    "application/vnd.databricks.v1+cell": {
     "cellMetadata": {
      "byteLimit": 2048000,
      "rowLimit": 10000
     },
     "inputWidgets": {},
     "nuid": "1bed572c-0d85-4e18-8a95-8fdb568742f3",
     "showTitle": false,
     "title": ""
    }
   },
   "outputs": [],
   "source": [
    "from pyspark.ml.regression import LinearRegression\n",
    "traindata,testdata=dfnew.randomSplit([0.75,0.25])"
   ]
  },
  {
   "cell_type": "code",
   "execution_count": 0,
   "metadata": {
    "application/vnd.databricks.v1+cell": {
     "cellMetadata": {
      "byteLimit": 2048000,
      "rowLimit": 10000
     },
     "inputWidgets": {},
     "nuid": "1fde1f9d-8c27-4165-b961-08c0cddcbcdc",
     "showTitle": false,
     "title": ""
    }
   },
   "outputs": [],
   "source": [
    "regressor=LinearRegression(featuresCol='Features', labelCol='total_bill')\n",
    "regressor=regressor.fit(traindata)"
   ]
  },
  {
   "cell_type": "code",
   "execution_count": 0,
   "metadata": {
    "application/vnd.databricks.v1+cell": {
     "cellMetadata": {
      "byteLimit": 2048000,
      "rowLimit": 10000
     },
     "inputWidgets": {},
     "nuid": "08d55e2a-c38c-4180-9597-7ec9e592253f",
     "showTitle": false,
     "title": ""
    }
   },
   "outputs": [
    {
     "output_type": "stream",
     "name": "stdout",
     "output_type": "stream",
     "text": [
      "+----------+--------------------+------------------+\n|total_bill|            Features|        prediction|\n+----------+--------------------+------------------+\n|      5.75|[1.0,1.0,1.0,3.0,...|12.446957628979021|\n|      8.35|[1.5,1.0,0.0,2.0,...|10.557164470795547|\n|       9.6|[4.0,1.0,1.0,1.0,...|22.278532493835574|\n|      9.78|[1.73,0.0,0.0,2.0...|12.414378728744122|\n|      9.94|[1.56,0.0,0.0,1.0...|13.087747396554589|\n|     10.33|[2.0,1.0,0.0,2.0,...|12.103393596405246|\n|     11.17|[1.5,1.0,0.0,2.0,...|10.557164470795547|\n|     11.35|[2.5,1.0,1.0,3.0,...| 17.08564500580812|\n|     11.61|(6,[0,5],[3.39,2.0])|19.024046051885268|\n|     11.87|[1.63,1.0,0.0,2.0...|10.959184043454067|\n|     12.02|(6,[0,5],[1.97,2.0])|14.632755335153718|\n|     12.26|[2.0,1.0,0.0,2.0,...|12.103393596405246|\n|     12.46|[1.5,0.0,0.0,3.0,...| 12.34799979028307|\n|      13.0|[2.0,1.0,1.0,2.0,...| 14.89452942087901|\n|     13.03|[2.0,0.0,0.0,2.0,...| 13.24934245657336|\n|     13.51|[2.0,0.0,1.0,2.0,...|16.040478281047125|\n|     14.26|[2.5,0.0,0.0,2.0,...| 14.79557158218306|\n|     14.31|[4.0,1.0,1.0,0.0,...|22.555632549434748|\n|     14.48|[2.0,0.0,1.0,1.0,...| 17.23956485156489|\n|     14.52|[2.0,1.0,0.0,2.0,...|12.103393596405246|\n+----------+--------------------+------------------+\nonly showing top 20 rows\n\n"
     ]
    }
   ],
   "source": [
    "pred=regressor.evaluate(testdata)\n",
    "pred.predictions.show()"
   ]
  },
  {
   "cell_type": "code",
   "execution_count": 0,
   "metadata": {
    "application/vnd.databricks.v1+cell": {
     "cellMetadata": {
      "byteLimit": 2048000,
      "rowLimit": 10000
     },
     "inputWidgets": {},
     "nuid": "134c0605-02a4-478b-94e1-5efe87670fdf",
     "showTitle": false,
     "title": ""
    }
   },
   "outputs": [
    {
     "output_type": "stream",
     "name": "stdout",
     "output_type": "stream",
     "text": [
      "Out[26]: (0.602425802974444, 3.805543310040635, 29.281741547401662)"
     ]
    }
   ],
   "source": [
    "pred.r2,pred.meanAbsoluteError,pred.meanSquaredError"
   ]
  }
 ],
 "metadata": {
  "application/vnd.databricks.v1+notebook": {
   "dashboards": [],
   "language": "python",
   "notebookMetadata": {
    "pythonIndentUnit": 4
   },
   "notebookName": "LinearRegression",
   "widgets": {}
  }
 },
 "nbformat": 4,
 "nbformat_minor": 0
}
